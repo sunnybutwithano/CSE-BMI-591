{
  "nbformat": 4,
  "nbformat_minor": 0,
  "metadata": {
    "colab": {
      "provenance": []
    },
    "kernelspec": {
      "name": "python3",
      "display_name": "Python 3"
    },
    "language_info": {
      "name": "python"
    }
  },
  "cells": [
    {
      "cell_type": "code",
      "execution_count": null,
      "metadata": {
        "id": "oZEp4Z-vpgfc"
      },
      "outputs": [],
      "source": [
        "import requests\n",
        "\n",
        "# URL of the file you want to download\n",
        "file_url = 'http://imgcom.jsrt.or.jp/imgcom/wp-content/uploads/2019/07/autoencoder_img.zip'\n",
        "\n",
        "# Local path where you want to save the downloaded file\n",
        "local_filename = 'images.zip'\n",
        "\n",
        "# Perform the download\n",
        "response = requests.get(file_url)\n",
        "\n",
        "# Open a local file with write-binary mode and save the content\n",
        "with open(local_filename, 'wb') as file:\n",
        "    file.write(response.content)\n"
      ]
    },
    {
      "cell_type": "code",
      "source": [
        "import requests\n",
        "\n",
        "# URL of the file you want to download\n",
        "file_url = 'http://imgcom.jsrt.or.jp/imgcom/wp-content/uploads/2018/11/Directions01.zip'\n",
        "\n",
        "# Local path where you want to save the downloaded file\n",
        "local_filename = 'directions.zip'\n",
        "\n",
        "# Perform the download\n",
        "response = requests.get(file_url)\n",
        "\n",
        "# Open a local file with write-binary mode and save the content\n",
        "with open(local_filename, 'wb') as file:\n",
        "    file.write(response.content)"
      ],
      "metadata": {
        "id": "wRYuttJp1Aa_"
      },
      "execution_count": null,
      "outputs": []
    },
    {
      "cell_type": "code",
      "source": [
        "! unzip images.zip\n",
        "! unzip directions.zip"
      ],
      "metadata": {
        "id": "AUFfYtYx1eI9"
      },
      "execution_count": null,
      "outputs": []
    },
    {
      "cell_type": "code",
      "source": [
        "from tensorflow.keras.models import load_model\n",
        "\n",
        "# Replace 'path_to_your_model.h5' with the actual path to your model file\n",
        "model = load_model('./autoencoder_img/chestCNN_Encoder300epoch.h5')"
      ],
      "metadata": {
        "colab": {
          "base_uri": "https://localhost:8080/"
        },
        "id": "0WUg1eE8sJPN",
        "outputId": "2fec3e81-f668-48d1-ae7d-c7ba5d61ec00"
      },
      "execution_count": 1,
      "outputs": [
        {
          "output_type": "stream",
          "name": "stderr",
          "text": [
            "WARNING:tensorflow:No training configuration found in the save file, so the model was *not* compiled. Compile it manually.\n"
          ]
        }
      ]
    },
    {
      "cell_type": "code",
      "source": [
        "import numpy as np\n",
        "from PIL import Image\n",
        "import pandas as pd\n",
        "images = []\n",
        "for dir in pd.read_csv('autoencoder_img/normal200.txt', header=None).values[1:]:\n",
        "\n",
        "    pixels = Image.open(f'autoencoder_img/{dir[0]}')\n",
        "    images.append(np.array(pixels))"
      ],
      "metadata": {
        "id": "kFILp-6JsobC"
      },
      "execution_count": 2,
      "outputs": []
    },
    {
      "cell_type": "code",
      "source": [
        "images = np.stack(images)"
      ],
      "metadata": {
        "id": "QM7WSEdvs9KV"
      },
      "execution_count": 3,
      "outputs": []
    },
    {
      "cell_type": "code",
      "source": [
        "salient = []\n",
        "for batch in np.split(images, indices_or_sections=4):\n",
        "  salient.append(model(batch))\n",
        "np.stack(salient)"
      ],
      "metadata": {
        "colab": {
          "base_uri": "https://localhost:8080/"
        },
        "id": "jQCoIcEws_mB",
        "outputId": "e9b73740-f13c-4936-83fd-5a044e92b753"
      },
      "execution_count": 4,
      "outputs": [
        {
          "output_type": "execute_result",
          "data": {
            "text/plain": [
              "array([[[  0.       ,  88.24171  ,   0.       , ...,  12.585533 ,\n",
              "          14.981337 ,  65.79297  ],\n",
              "        [  0.       , 104.996284 ,   0.       , ...,  19.722168 ,\n",
              "          13.6617565, 106.86335  ],\n",
              "        [  0.       ,  89.66819  ,   0.       , ...,   7.019109 ,\n",
              "          22.511429 ,  44.90336  ],\n",
              "        ...,\n",
              "        [  0.       , 110.06985  ,   0.       , ...,  19.871548 ,\n",
              "          23.503258 ,  42.325184 ],\n",
              "        [  0.       , 107.54779  ,   0.       , ...,   9.063291 ,\n",
              "          21.59964  ,  68.269005 ],\n",
              "        [  0.       ,  61.157772 ,   0.       , ...,   9.653276 ,\n",
              "          25.708607 ,  54.287937 ]],\n",
              "\n",
              "       [[  0.       , 108.39651  ,   0.       , ...,  14.598019 ,\n",
              "          23.052023 ,  84.31591  ],\n",
              "        [  0.       ,  69.07853  ,   0.       , ...,  10.710527 ,\n",
              "          21.039    ,  71.22401  ],\n",
              "        [  0.       ,  90.807274 ,   0.       , ...,  25.875654 ,\n",
              "           7.759135 ,  61.65896  ],\n",
              "        ...,\n",
              "        [  0.       ,  89.07226  ,   0.       , ...,  27.663652 ,\n",
              "          13.628862 ,  61.61771  ],\n",
              "        [  0.       ,  98.422935 ,   0.       , ...,   8.561541 ,\n",
              "          12.691118 ,  21.266834 ],\n",
              "        [  0.       ,  28.3645   ,   0.       , ...,   5.777902 ,\n",
              "           7.631208 ,  31.410759 ]],\n",
              "\n",
              "       [[  0.       , 109.78492  ,   0.       , ...,   8.225968 ,\n",
              "           6.635329 ,  48.325745 ],\n",
              "        [  0.       , 104.35697  ,   0.       , ...,  23.98771  ,\n",
              "           9.506579 , 103.407455 ],\n",
              "        [  0.       , 100.57708  ,   0.       , ...,  28.480125 ,\n",
              "           0.6331868,  81.10427  ],\n",
              "        ...,\n",
              "        [  0.       , 114.93305  ,   0.       , ...,  14.031925 ,\n",
              "          13.948485 ,  37.881126 ],\n",
              "        [  0.       ,  87.339874 ,   0.       , ...,  17.514399 ,\n",
              "          24.164871 ,  73.78882  ],\n",
              "        [  0.       , 101.15494  ,   0.       , ...,  20.754313 ,\n",
              "          13.900311 ,  61.26043  ]],\n",
              "\n",
              "       [[  0.       ,  77.953156 ,   0.       , ...,  21.8378   ,\n",
              "           6.8826094,  65.70468  ],\n",
              "        [  0.       , 109.03925  ,   1.0265723, ...,  18.556442 ,\n",
              "          11.877216 ,  83.54285  ],\n",
              "        [  0.       , 101.40732  ,   0.       , ...,  21.077312 ,\n",
              "          11.376269 ,  89.01693  ],\n",
              "        ...,\n",
              "        [  0.       ,  83.83452  ,   0.       , ...,  72.40043  ,\n",
              "           0.       , 101.6042   ],\n",
              "        [  0.       ,  83.47197  ,   0.       , ...,  23.449942 ,\n",
              "          13.349989 ,  56.302925 ],\n",
              "        [  0.       ,  98.14616  ,   0.       , ...,   4.0992174,\n",
              "          14.010232 ,  76.00711  ]]], dtype=float32)"
            ]
          },
          "metadata": {},
          "execution_count": 4
        }
      ]
    },
    {
      "cell_type": "code",
      "source": [
        "salient = np.stack(salient)"
      ],
      "metadata": {
        "id": "nsI3YTTIutd1"
      },
      "execution_count": 5,
      "outputs": []
    },
    {
      "cell_type": "code",
      "source": [
        "salient = salient.reshape(-1, 128)"
      ],
      "metadata": {
        "id": "RK4XCOpeuvRN"
      },
      "execution_count": 6,
      "outputs": []
    },
    {
      "cell_type": "code",
      "source": [
        "mean = salient.mean(0)\n",
        "std = salient.std(0)"
      ],
      "metadata": {
        "id": "RfB99rbrvIvd"
      },
      "execution_count": 7,
      "outputs": []
    },
    {
      "cell_type": "code",
      "source": [
        "from tqdm import tqdm\n",
        "from scipy.stats import norm"
      ],
      "metadata": {
        "id": "6HGFb7g3vfCb"
      },
      "execution_count": 8,
      "outputs": []
    },
    {
      "cell_type": "code",
      "source": [
        "normal_p = []\n",
        "for image in tqdm(salient):\n",
        "    p = 1\n",
        "    for pixel, m, s in zip(image.reshape(-1), mean.reshape(-1), std.reshape(-1)):\n",
        "        # print(pixel, m, s)\n",
        "\n",
        "        p *= norm.cdf(pixel, m, s + 1e-10)\n",
        "    normal_p.append(p)\n",
        "# max(images_p), min(images_p)\n",
        "normal_p"
      ],
      "metadata": {
        "colab": {
          "base_uri": "https://localhost:8080/"
        },
        "id": "wvcYFS7ivUFa",
        "outputId": "f2453b61-725c-4be2-b95a-f4a0014cbdc2"
      },
      "execution_count": 9,
      "outputs": [
        {
          "output_type": "stream",
          "name": "stderr",
          "text": [
            "100%|██████████| 200/200 [00:03<00:00, 57.18it/s]\n"
          ]
        },
        {
          "output_type": "execute_result",
          "data": {
            "text/plain": [
              "[1.0645659059695712e-58,\n",
              " 7.170560951890246e-38,\n",
              " 3.048542675998088e-58,\n",
              " 4.862591239699921e-41,\n",
              " 4.578254870856733e-58,\n",
              " 1.371471120310863e-41,\n",
              " 1.1392122762032965e-59,\n",
              " 8.70872047617127e-43,\n",
              " 1.9904207162677406e-54,\n",
              " 1.2695597763398714e-48,\n",
              " 1.2118219019714925e-42,\n",
              " 2.3705410767657937e-62,\n",
              " 2.9197799211186335e-43,\n",
              " 1.1296135804020451e-55,\n",
              " 1.9244553965866753e-43,\n",
              " 2.2092010471303222e-41,\n",
              " 5.935074467556235e-53,\n",
              " 2.5568292230489985e-48,\n",
              " 4.694391754683327e-45,\n",
              " 4.574688560545393e-40,\n",
              " 1.7905960434360446e-50,\n",
              " 1.5863582655317257e-40,\n",
              " 2.231457986411851e-46,\n",
              " 1.4768503013562788e-45,\n",
              " 2.1571957645721542e-40,\n",
              " 9.520095088729306e-52,\n",
              " 4.266198234672693e-43,\n",
              " 7.499396433049407e-46,\n",
              " 1.7882948179410308e-54,\n",
              " 7.475237926717571e-43,\n",
              " 1.2142824653791115e-39,\n",
              " 1.8875311865166964e-45,\n",
              " 6.972014062038457e-39,\n",
              " 7.405141554261131e-47,\n",
              " 4.729444694858457e-44,\n",
              " 4.0182656101756264e-57,\n",
              " 2.437590841470034e-35,\n",
              " 1.778924988607528e-42,\n",
              " 8.098695363026415e-38,\n",
              " 2.16626242247982e-49,\n",
              " 3.737450685139999e-58,\n",
              " 2.364831654389412e-64,\n",
              " 1.6162339352937329e-43,\n",
              " 6.8138412063513064e-43,\n",
              " 5.6381794869639794e-55,\n",
              " 6.39178594332064e-47,\n",
              " 4.923241333758277e-53,\n",
              " 1.892377663389718e-39,\n",
              " 5.19101920380324e-42,\n",
              " 1.6315083498959635e-56,\n",
              " 2.4173700394764835e-40,\n",
              " 7.634150550728505e-47,\n",
              " 8.421239114964286e-54,\n",
              " 8.349261116342818e-51,\n",
              " 4.4032802136992265e-46,\n",
              " 2.094237386095477e-45,\n",
              " 2.2595283761756475e-39,\n",
              " 1.068113772204223e-55,\n",
              " 6.692725111862866e-51,\n",
              " 7.671306691915456e-44,\n",
              " 8.453959866184336e-47,\n",
              " 6.371050768465593e-49,\n",
              " 5.470025117631504e-45,\n",
              " 1.8352386134363973e-43,\n",
              " 4.2482514687555544e-48,\n",
              " 1.2684892889444804e-46,\n",
              " 6.70983237019192e-52,\n",
              " 9.112559440877409e-44,\n",
              " 1.9698762931151823e-43,\n",
              " 1.8788647178044384e-59,\n",
              " 1.3547941235240695e-38,\n",
              " 2.683111667628264e-72,\n",
              " 5.063215840159164e-52,\n",
              " 1.1161320416778908e-59,\n",
              " 6.305822158089384e-46,\n",
              " 1.3139325441647734e-40,\n",
              " 1.4585069489879864e-41,\n",
              " 9.29170034212721e-45,\n",
              " 2.9494055919248993e-56,\n",
              " 4.444616468359038e-40,\n",
              " 8.22279545096577e-38,\n",
              " 2.8212693800719776e-40,\n",
              " 1.4352416686083418e-41,\n",
              " 4.9554522266563035e-45,\n",
              " 1.6622952918940037e-44,\n",
              " 1.045686250805222e-50,\n",
              " 8.767295335969216e-44,\n",
              " 1.7933136279423771e-53,\n",
              " 1.9080798913731038e-47,\n",
              " 2.159448220665479e-50,\n",
              " 2.8532451482173097e-37,\n",
              " 2.2067728263509433e-53,\n",
              " 1.4796074813089697e-56,\n",
              " 6.726664178905272e-42,\n",
              " 2.7208332168759993e-50,\n",
              " 7.089903840501778e-45,\n",
              " 2.64561803097419e-65,\n",
              " 2.3321764542125533e-42,\n",
              " 9.921707474087171e-46,\n",
              " 9.163665239644776e-71,\n",
              " 6.883185688984883e-48,\n",
              " 2.4586858462833493e-49,\n",
              " 1.306053828488113e-42,\n",
              " 1.788332879291345e-50,\n",
              " 1.9354865565716138e-42,\n",
              " 9.247953735691474e-43,\n",
              " 1.955133498994609e-68,\n",
              " 1.8750550838719746e-43,\n",
              " 2.4990269789369315e-46,\n",
              " 3.431826186099791e-51,\n",
              " 6.296571881555591e-56,\n",
              " 3.616744838895162e-47,\n",
              " 7.486332874985028e-48,\n",
              " 7.277011812307264e-47,\n",
              " 1.2742287290771997e-52,\n",
              " 4.4579293012468656e-48,\n",
              " 6.771618292552293e-41,\n",
              " 7.845539346453104e-62,\n",
              " 3.8533852376552576e-38,\n",
              " 2.4625081530792835e-45,\n",
              " 1.5546249203188386e-37,\n",
              " 1.1291562922198617e-42,\n",
              " 5.71952847067171e-43,\n",
              " 1.239354302675087e-44,\n",
              " 6.385113824627365e-44,\n",
              " 4.793407699307868e-44,\n",
              " 3.925567983966247e-41,\n",
              " 7.997317878636751e-47,\n",
              " 4.5137329793382816e-49,\n",
              " 6.414303090096571e-50,\n",
              " 4.3230006837664146e-45,\n",
              " 1.1732714163236159e-40,\n",
              " 2.084020339007899e-68,\n",
              " 1.2113309747960694e-38,\n",
              " 1.7328979479352228e-40,\n",
              " 2.4648797540923705e-38,\n",
              " 4.251543729213157e-46,\n",
              " 9.699257291210087e-42,\n",
              " 3.927472745188312e-67,\n",
              " 1.8712304805709657e-48,\n",
              " 4.2590103999365866e-50,\n",
              " 4.13245943311257e-38,\n",
              " 5.726647194638005e-52,\n",
              " 1.6489505914307557e-43,\n",
              " 9.005231792952045e-43,\n",
              " 8.61661511488003e-55,\n",
              " 9.742963935645322e-75,\n",
              " 7.123855156893284e-47,\n",
              " 2.7008295499505677e-39,\n",
              " 2.2174908803179124e-52,\n",
              " 2.4541852032211728e-39,\n",
              " 6.894255009871759e-41,\n",
              " 2.9767867699945956e-42,\n",
              " 2.0354864610250705e-52,\n",
              " 8.942503761938922e-49,\n",
              " 8.626996902740577e-52,\n",
              " 9.89308441981662e-54,\n",
              " 1.1373048213026393e-49,\n",
              " 3.0240840809709953e-43,\n",
              " 8.531265467507431e-52,\n",
              " 1.1803015033848985e-57,\n",
              " 1.2062737868588652e-49,\n",
              " 1.7985430322028182e-41,\n",
              " 1.0077112699098906e-43,\n",
              " 1.943695781622649e-62,\n",
              " 7.267435396330219e-42,\n",
              " 6.504945612627847e-46,\n",
              " 4.918686664297556e-46,\n",
              " 1.6452621488623594e-52,\n",
              " 1.6364486815161696e-44,\n",
              " 3.3532026210948714e-50,\n",
              " 1.6440611727329084e-46,\n",
              " 2.312031001346512e-41,\n",
              " 5.61429811578938e-47,\n",
              " 1.2223348012015357e-39,\n",
              " 1.0301687996075471e-55,\n",
              " 7.116418992793449e-45,\n",
              " 7.300443255893971e-50,\n",
              " 2.0364794640432788e-61,\n",
              " 2.386202193992644e-63,\n",
              " 5.339569345078802e-46,\n",
              " 2.7358293165404053e-43,\n",
              " 3.8684442695678245e-50,\n",
              " 3.0646762888011657e-44,\n",
              " 1.6473375393426989e-68,\n",
              " 1.3208812541369164e-45,\n",
              " 4.82829709816309e-53,\n",
              " 1.8080047830422718e-60,\n",
              " 3.963303466110282e-57,\n",
              " 7.751655134154404e-44,\n",
              " 2.4181396089432713e-50,\n",
              " 1.1171307821300689e-41,\n",
              " 1.532068935794058e-47,\n",
              " 2.371550048620439e-47,\n",
              " 1.4919696737135093e-51,\n",
              " 4.365799934424042e-41,\n",
              " 3.440971779230138e-55,\n",
              " 2.0022003872613837e-44,\n",
              " 5.200906513377514e-62,\n",
              " 2.437508812378446e-47]"
            ]
          },
          "metadata": {},
          "execution_count": 9
        }
      ]
    },
    {
      "cell_type": "code",
      "source": [
        "abnormal_images = []\n",
        "for dir in pd.read_csv('autoencoder_img/abnormal.txt', header=None).values[1:]:\n",
        "\n",
        "    pixels = Image.open(f'autoencoder_img/{dir[0]}')\n",
        "    abnormal_images.append(np.array(pixels))"
      ],
      "metadata": {
        "id": "6LJWKaHywUth"
      },
      "execution_count": 10,
      "outputs": []
    },
    {
      "cell_type": "code",
      "source": [
        "abnormal_images = np.stack(abnormal_images)"
      ],
      "metadata": {
        "id": "dN8RHv2EweaL"
      },
      "execution_count": 11,
      "outputs": []
    },
    {
      "cell_type": "code",
      "source": [
        "abnormal_salient = model(abnormal_images)"
      ],
      "metadata": {
        "id": "qch-T6DZwija"
      },
      "execution_count": 12,
      "outputs": []
    },
    {
      "cell_type": "code",
      "source": [
        "abnormal_p = []\n",
        "for image in tqdm(abnormal_salient):\n",
        "    p = 1\n",
        "    for pixel, m, s in zip(image, mean.reshape(-1), std.reshape(-1)):\n",
        "        # print(pixel, m, s)\n",
        "\n",
        "        p *= norm.cdf(pixel, m, s + 1e-10)\n",
        "    abnormal_p.append(p)\n",
        "# max(images_p), min(images_p)\n",
        "abnormal_p"
      ],
      "metadata": {
        "colab": {
          "base_uri": "https://localhost:8080/"
        },
        "id": "Cnm1Nt6awsUF",
        "outputId": "cb7c13c0-096e-4fce-c1e3-d3b066cf6ec7"
      },
      "execution_count": 13,
      "outputs": [
        {
          "output_type": "stream",
          "name": "stderr",
          "text": [
            "100%|██████████| 17/17 [00:01<00:00, 14.34it/s]\n"
          ]
        },
        {
          "output_type": "execute_result",
          "data": {
            "text/plain": [
              "[3.2278017716414884e-53,\n",
              " 1.3234634058983906e-43,\n",
              " 7.164602463839355e-54,\n",
              " 9.028145269331702e-66,\n",
              " 2.7735514612109306e-61,\n",
              " 1.1288391734624692e-40,\n",
              " 4.144337338520919e-43,\n",
              " 3.1841865792855544e-47,\n",
              " 3.453060817880597e-49,\n",
              " 1.0851637804264476e-54,\n",
              " 4.261127610311625e-61,\n",
              " 2.6953227715211554e-61,\n",
              " 1.5619797386179509e-44,\n",
              " 4.603063204459022e-64,\n",
              " 1.6360541737121156e-54,\n",
              " 3.8590716440818295e-65,\n",
              " 4.822522926854372e-61]"
            ]
          },
          "metadata": {},
          "execution_count": 13
        }
      ]
    },
    {
      "cell_type": "code",
      "source": [
        "\n",
        "eps = 9e-51\n",
        "(np.stack(normal_p) > eps).mean(), (np.stack(abnormal_p) < eps).mean()"
      ],
      "metadata": {
        "colab": {
          "base_uri": "https://localhost:8080/"
        },
        "id": "A8FulTO2xETe",
        "outputId": "5f3ae5db-f99b-4a71-800b-2d6a7b32ccec"
      },
      "execution_count": 14,
      "outputs": [
        {
          "output_type": "execute_result",
          "data": {
            "text/plain": [
              "(0.705, 0.6470588235294118)"
            ]
          },
          "metadata": {},
          "execution_count": 14
        }
      ]
    },
    {
      "cell_type": "code",
      "source": [
        "from sklearn.mixture import GaussianMixture\n",
        "\n",
        "gmm = GaussianMixture(n_components=3)\n",
        "\n",
        "\n",
        "gmm.fit(salient)\n",
        "\n",
        "# Predict the cluster for each data point\n",
        "# labels = gmm.predict(salient)\n",
        "\n",
        "# Estimate the probabilities of each data point to belong to each cluster\n",
        "probs = gmm.predict_proba(salient)\n",
        "abnormal_probs = gmm.predict_proba(abnormal_salient)"
      ],
      "metadata": {
        "id": "m0vJhTqQzEQ9"
      },
      "execution_count": 15,
      "outputs": []
    },
    {
      "cell_type": "code",
      "source": [
        "scores = gmm.score_samples(salient)\n",
        "scores_abnormal = gmm.score_samples(abnormal_salient)"
      ],
      "metadata": {
        "id": "-lGZZMKAzofk"
      },
      "execution_count": 16,
      "outputs": []
    },
    {
      "cell_type": "code",
      "source": [
        "scores_abnormal.max()"
      ],
      "metadata": {
        "colab": {
          "base_uri": "https://localhost:8080/"
        },
        "id": "1IWTOxG60K7r",
        "outputId": "b42839a4-794c-4118-9646-66ba638535ab"
      },
      "execution_count": 17,
      "outputs": [
        {
          "output_type": "execute_result",
          "data": {
            "text/plain": [
              "-298178.6970262874"
            ]
          },
          "metadata": {},
          "execution_count": 17
        }
      ]
    },
    {
      "cell_type": "code",
      "source": [
        "eps = 11\n",
        "(np.stack(scores) > eps).mean(), (np.stack(scores_abnormal) < eps).mean()"
      ],
      "metadata": {
        "colab": {
          "base_uri": "https://localhost:8080/"
        },
        "id": "A4tJ4uyuzX0J",
        "outputId": "593d8f10-9c14-44cf-a22c-1fee6a365706"
      },
      "execution_count": 18,
      "outputs": [
        {
          "output_type": "execute_result",
          "data": {
            "text/plain": [
              "(1.0, 1.0)"
            ]
          },
          "metadata": {},
          "execution_count": 18
        }
      ]
    },
    {
      "cell_type": "markdown",
      "source": [
        "# Clustering"
      ],
      "metadata": {
        "id": "u_MAp6uU0b_n"
      }
    },
    {
      "cell_type": "code",
      "source": [
        "images = []\n",
        "labels = []\n",
        "for im in pd.read_csv('Directions01/list_train.txt', header=None).values:\n",
        "  image = Image.open('Directions01/' + im[0].replace('\\\\', '/'))\n",
        "\n",
        "  image_256 = Image.new('L', (256, 256), (0,))\n",
        "\n",
        "  # Calculate the offset to center the 128x128 image in the 256x256 image\n",
        "  offset = ((256 - 128) // 2, (256 - 128) // 2)\n",
        "\n",
        "  # Paste the original image into the center of the new 256x256 image\n",
        "  image_256.paste(image, offset)\n",
        "\n",
        "  # Optionally, convert back to a NumPy array if you need to work with NumPy\n",
        "  image = np.array(image_256)\n",
        "\n",
        "  images.append(image)\n",
        "  labels.append(im[-1])\n",
        "\n",
        "for im in pd.read_csv('Directions01/list_test.txt', header=None).values:\n",
        "  image = Image.open('Directions01/' + im[0].replace('\\\\', '/'))\n",
        "  image_256 = Image.new('L', (256, 256), (0,))\n",
        "\n",
        "  # Calculate the offset to center the 128x128 image in the 256x256 image\n",
        "  offset = ((256 - 128) // 2, (256 - 128) // 2)\n",
        "\n",
        "  # Paste the original image into the center of the new 256x256 image\n",
        "  image_256.paste(image, offset)\n",
        "\n",
        "  # Optionally, convert back to a NumPy array if you need to work with NumPy\n",
        "  image = np.array(image_256)\n",
        "\n",
        "  images.append(image)\n",
        "\n",
        "  labels.append(im[-1])\n"
      ],
      "metadata": {
        "id": "i43DOpOA1niv"
      },
      "execution_count": 20,
      "outputs": []
    },
    {
      "cell_type": "code",
      "source": [
        "images = np.stack(images)"
      ],
      "metadata": {
        "id": "_AQB9trg2nen"
      },
      "execution_count": 21,
      "outputs": []
    },
    {
      "cell_type": "code",
      "source": [
        "salient = []\n",
        "for batch in np.split(images, indices_or_sections=247):\n",
        "  salient.append(model(batch))\n",
        "salient = np.stack(salient)\n"
      ],
      "metadata": {
        "id": "gyt_ZHOi3GT-"
      },
      "execution_count": 25,
      "outputs": []
    },
    {
      "cell_type": "code",
      "source": [
        "salient = salient.reshape(-1, 128)"
      ],
      "metadata": {
        "id": "vXqpzHxe78IU"
      },
      "execution_count": 29,
      "outputs": []
    },
    {
      "cell_type": "code",
      "source": [
        "salient.shape, abnormal_salient.shape"
      ],
      "metadata": {
        "colab": {
          "base_uri": "https://localhost:8080/"
        },
        "id": "5-5RJcg28DgV",
        "outputId": "580e6b0c-6ada-4966-8458-b8e6e02db1d0"
      },
      "execution_count": 30,
      "outputs": [
        {
          "output_type": "execute_result",
          "data": {
            "text/plain": [
              "((988, 128), TensorShape([17, 128]))"
            ]
          },
          "metadata": {},
          "execution_count": 30
        }
      ]
    },
    {
      "cell_type": "code",
      "source": [],
      "metadata": {
        "colab": {
          "base_uri": "https://localhost:8080/"
        },
        "id": "HpSALS7r8eJp",
        "outputId": "c614fa12-4a01-4a97-ad9b-bdc01322576b"
      },
      "execution_count": 35,
      "outputs": [
        {
          "output_type": "execute_result",
          "data": {
            "text/plain": [
              "(1005, 128)"
            ]
          },
          "metadata": {},
          "execution_count": 35
        }
      ]
    },
    {
      "cell_type": "code",
      "source": [
        "from sklearn.mixture import GaussianMixture\n",
        "\n",
        "gmm = GaussianMixture(n_components=5)\n",
        "\n",
        "X = np.vstack((salient, abnormal_salient))\n",
        "\n",
        "gmm.fit(X)\n",
        "gmm.predict(X)"
      ],
      "metadata": {
        "colab": {
          "base_uri": "https://localhost:8080/"
        },
        "id": "ZSZlkPSd8L4W",
        "outputId": "cd6e513e-b596-4843-ba03-a828a85bb7c2"
      },
      "execution_count": 36,
      "outputs": [
        {
          "output_type": "execute_result",
          "data": {
            "text/plain": [
              "array([2, 2, 2, ..., 3, 3, 3])"
            ]
          },
          "metadata": {},
          "execution_count": 36
        }
      ]
    },
    {
      "cell_type": "code",
      "source": [
        "actual_labels = labels + ['flip' for _ in abnormal_salient]\n",
        "from collections import defaultdict\n",
        "count = defaultdict(lambda : 0)\n",
        "for y_hat, y in zip(gmm.predict(X)[:], actual_labels[:]):\n",
        "  count[y_hat, y] += 1\n"
      ],
      "metadata": {
        "id": "neY6NWVX8tOm"
      },
      "execution_count": 46,
      "outputs": []
    },
    {
      "cell_type": "code",
      "source": [
        "count"
      ],
      "metadata": {
        "colab": {
          "base_uri": "https://localhost:8080/"
        },
        "id": "s4JZTcGY-ORC",
        "outputId": "7a575f42-7957-4985-a07b-42433c4712fe"
      },
      "execution_count": 47,
      "outputs": [
        {
          "output_type": "execute_result",
          "data": {
            "text/plain": [
              "defaultdict(<function __main__.<lambda>()>,\n",
              "            {(2, 'down'): 245,\n",
              "             (4, 'down'): 2,\n",
              "             (0, 'left'): 245,\n",
              "             (1, 'left'): 2,\n",
              "             (4, 'right'): 231,\n",
              "             (2, 'right'): 16,\n",
              "             (1, 'up'): 244,\n",
              "             (4, 'up'): 3,\n",
              "             (3, 'flip'): 17})"
            ]
          },
          "metadata": {},
          "execution_count": 47
        }
      ]
    },
    {
      "cell_type": "code",
      "source": [
        "for k in count.keys():\n",
        ""
      ],
      "metadata": {
        "id": "oC9betYk-oAe"
      },
      "execution_count": null,
      "outputs": []
    },
    {
      "cell_type": "code",
      "source": [
        "def encode_labels(name, count):\n",
        "  d = {\n",
        "  'down': 2,\n",
        "  'left': 0,\n",
        "  'right': 4,\n",
        "  'up': 1,\n",
        "  'flip': 3\n",
        "  }\n",
        "  return d[name]"
      ],
      "metadata": {
        "id": "is__X7df-SaE"
      },
      "execution_count": 50,
      "outputs": []
    },
    {
      "cell_type": "code",
      "source": [
        "final_labels = [encode_labels(label, count) for label in actual_labels]"
      ],
      "metadata": {
        "id": "Khd7pGSv_NKg"
      },
      "execution_count": 53,
      "outputs": []
    },
    {
      "cell_type": "code",
      "source": [
        "(final_labels == gmm.predict(X)).mean()"
      ],
      "metadata": {
        "colab": {
          "base_uri": "https://localhost:8080/"
        },
        "id": "GaI9lHK-_g-3",
        "outputId": "9e0e58c0-0be0-4029-acff-5cae11afb851"
      },
      "execution_count": 56,
      "outputs": [
        {
          "output_type": "execute_result",
          "data": {
            "text/plain": [
              "0.9771144278606965"
            ]
          },
          "metadata": {},
          "execution_count": 56
        }
      ]
    }
  ]
}